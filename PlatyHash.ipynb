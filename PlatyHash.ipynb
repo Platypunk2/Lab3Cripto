{
  "nbformat": 4,
  "nbformat_minor": 0,
  "metadata": {
    "colab": {
      "name": "PlatyHash.ipynb",
      "provenance": [],
      "collapsed_sections": []
    },
    "kernelspec": {
      "name": "python3",
      "display_name": "Python 3"
    },
    "language_info": {
      "name": "python"
    }
  },
  "cells": [
    {
      "cell_type": "markdown",
      "source": [
        "# PlatyHash\n",
        "## Hash laboratorio 3 Cripto"
      ],
      "metadata": {
        "id": "UsM24Z2w-xdg"
      }
    },
    {
      "cell_type": "markdown",
      "source": [
        "El proposito de este hash es lograr hashear un texto"
      ],
      "metadata": {
        "id": "OzJRDOOF_bZA"
      }
    },
    {
      "cell_type": "code",
      "source": [
        "import sys\n",
        "import io\n",
        "import codecs\n",
        "from google.colab import files\n",
        "import time\n",
        "import hashlib"
      ],
      "metadata": {
        "id": "_cV7MqIIGX67"
      },
      "execution_count": 20,
      "outputs": []
    },
    {
      "cell_type": "code",
      "source": [
        "import string\n",
        "alph = list(string.ascii_letters + string.digits + string.punctuation)\n",
        "print(len(alph))"
      ],
      "metadata": {
        "colab": {
          "base_uri": "https://localhost:8080/"
        },
        "id": "B4K-HK1_-Xyj",
        "outputId": "25b955a0-ae66-4e30-e482-1f8825132b7d"
      },
      "execution_count": 60,
      "outputs": [
        {
          "output_type": "stream",
          "name": "stdout",
          "text": [
            "94\n"
          ]
        }
      ]
    },
    {
      "cell_type": "markdown",
      "source": [
        "Funcion de calculo de entropia, la entropia siempre es 94"
      ],
      "metadata": {
        "id": "fhI9VoEoZj0D"
      }
    },
    {
      "cell_type": "code",
      "source": [
        "import math\n",
        "\n",
        "def Entropia(n,base):\n",
        "  if(base==0):\n",
        "    base_hash = 94\n",
        "  else:\n",
        "    base_hash = base\n",
        "  entropia = round(n*math.log2(base_hash),3)\n",
        "  return str(entropia)\n",
        "  "
      ],
      "metadata": {
        "id": "hgUZnEK0x0Mh"
      },
      "execution_count": 57,
      "outputs": []
    },
    {
      "cell_type": "code",
      "source": [
        "def SumDig(x):\n",
        "  sumDigit = 0\n",
        "  while x != 0:\n",
        "      extNum = x % 10\n",
        "      x //= 10\n",
        "      sumDigit += extNum\n",
        "  return sumDigit"
      ],
      "metadata": {
        "id": "NKUWKr7l39WC"
      },
      "execution_count": 23,
      "outputs": []
    },
    {
      "cell_type": "markdown",
      "source": [
        "En este apartado se busca las letras de una palabra, separando estas de los numeros."
      ],
      "metadata": {
        "id": "LE9wq8igXQIx"
      }
    },
    {
      "cell_type": "code",
      "source": [
        "def letras(palabra):\n",
        "  vocal = \"\"\n",
        "  for i in range(len(palabra)):\n",
        "    try:\n",
        "      n = 1 + int(palabra[i])\n",
        "    except:\n",
        "      vocal = vocal + palabra[i]\n",
        "  return vocal"
      ],
      "metadata": {
        "id": "QORgRQ_Bea-T"
      },
      "execution_count": 25,
      "outputs": []
    },
    {
      "cell_type": "markdown",
      "source": [
        "La primera funcion entrega el codigo hexadecimal y el unicode de la palabra.\n",
        "\n",
        "La segunda funcion busca las letras y los numeros de un hexadecimal y los separa.\n",
        "\n",
        "La tercera funcion crea un padding con la suma de los numeros hexadecimales, si esta es menor a 10, se multiplicara por dos hasta que este cumpla la condicion anterior."
      ],
      "metadata": {
        "id": "fNyOr1JVYC2p"
      }
    },
    {
      "cell_type": "code",
      "source": [
        "def realHash(palabra):\n",
        "  hexad = \"\"\n",
        "  uni = \"\"\n",
        "  #print(len(palabra))\n",
        "  for i in range(len(palabra)):\n",
        "    uni = uni + str(ord(palabra[i]))\n",
        "    hexad = hexad + str(palabra[i].encode('utf-8').hex())\n",
        "  return [hexad, uni]\n",
        "  \n",
        "def realHash2(hexa, uni):\n",
        "  vocal=\"\"\n",
        "  pad = 0\n",
        "  for i in range(len(hexa)):\n",
        "    try:\n",
        "      pad = pad + int(hexa[i]) + i\n",
        "    except:\n",
        "      vocal = vocal + hexa[i]\n",
        "\n",
        "  return [vocal,pad]\n",
        "\n",
        "def Padding(pad):\n",
        "  while(int(pad)<10):\n",
        "    pad = int(pad)*2\n",
        "  return str(str(pad).encode('utf-8').hex())"
      ],
      "metadata": {
        "id": "m6LZQzXcJi8h"
      },
      "execution_count": 54,
      "outputs": []
    },
    {
      "cell_type": "markdown",
      "source": [
        "Esta funcion intercala dos palabras y forma una nueva palabra combinando las dos palabras."
      ],
      "metadata": {
        "id": "jZ07JjgpZgeH"
      }
    },
    {
      "cell_type": "code",
      "source": [
        "def Intercalar2(palabra1, palabra2):\n",
        "  j=0\n",
        "  k=0\n",
        "  if(len(palabra1)>=len(palabra2)):\n",
        "    uni = palabra1\n",
        "    vocal = palabra2\n",
        "  else:\n",
        "    uni = palabra2\n",
        "    vocal = palabra1\n",
        "  #print(vocal, \"->\",uni )\n",
        "  for i in range(1,len(uni)):\n",
        "    uni = uni[0:k] + vocal[j] + uni[k:len(uni)]\n",
        "    j = j+1\n",
        "    k = k+1\n",
        "  return uni"
      ],
      "metadata": {
        "id": "N9HObEWDnHtR"
      },
      "execution_count": 7,
      "outputs": []
    },
    {
      "cell_type": "markdown",
      "source": [
        "Esta funcion evalua si existen letras en el hexadecimal, en caso de que no, se dan unas letras estandar puestas arbitrariamente. Despues se van intercalando estas letras en el unicode de tal forma que el unicode quede intercalando numeros y letras."
      ],
      "metadata": {
        "id": "LOeAe3Iiat_Q"
      }
    },
    {
      "cell_type": "code",
      "source": [
        "def PalHash(vocal, uni, palabra):\n",
        "  letrext = ['v','e','#']\n",
        "  if(not len(vocal) and letras(palabra)):\n",
        "    vocal = letras(palabra)\n",
        "  u = 0\n",
        "  while(len(vocal)<3):\n",
        "    vocal = vocal + letrext[u]\n",
        "    u=u+1\n",
        "  j=0\n",
        "  k=1\n",
        "  for i in range(1,len(uni)):\n",
        "    try:\n",
        "      uni = uni[0:k] + vocal[j] + uni[k:len(uni)]\n",
        "      j = j+1\n",
        "      k = k+2\n",
        "    except:\n",
        "      j = 0\n",
        "      uni = uni[0:k] + vocal[j] + uni[k:len(uni)]\n",
        "      j = j+1\n",
        "      k = k+2\n",
        "  if(len(uni)%2 is not 0):\n",
        "    uni = uni + \"&\"\n",
        "  return uni"
      ],
      "metadata": {
        "id": "zSKOHX-FdJzJ"
      },
      "execution_count": 8,
      "outputs": []
    },
    {
      "cell_type": "markdown",
      "source": [
        "Este es el ultimo paso, evalua el tamaño de lo que se lleva de hash y si es que es muy pequeño, se crea tantas veces un padding para extender el hash."
      ],
      "metadata": {
        "id": "WJX5wPzvc3bh"
      }
    },
    {
      "cell_type": "code",
      "source": [
        "def PadDef(palabra):\n",
        "  npala=palabra\n",
        "  while(len(npala)<=55):\n",
        "    coHex = realHash(npala)[0]\n",
        "    coUni = realHash(npala)[1]\n",
        "    padd = realHash2(coHex,coUni)[1]\n",
        "    npala = npala + str(padd)\n",
        "    #npala = Intercalar2(npala[0:int(len(npala)/2)],npala[int(len(npala)/2):len(npala)])\n",
        "  return npala[0:55]"
      ],
      "metadata": {
        "id": "P2QbZ0xC3fbt"
      },
      "execution_count": 9,
      "outputs": []
    },
    {
      "cell_type": "markdown",
      "source": [
        "En aplicar, se usan todas las funciones descritas anteiormente en orden y retorna el ultimo hash que entregue la funcion PadDef"
      ],
      "metadata": {
        "id": "Rit9baXHdTR6"
      }
    },
    {
      "cell_type": "code",
      "source": [
        "def Aplicar(palabra):\n",
        "  i = 0 \n",
        "  coHex = realHash(palabra)[0]\n",
        "  coUni = realHash(palabra)[1]\n",
        "\n",
        "  while(len(palabra) < 5):\n",
        "    palabra = palabra + alph[int(coUni[i])]\n",
        "    i = i+1\n",
        "\n",
        "  letra = realHash2(coHex,coUni)[0]\n",
        "  padd = realHash2(coHex,coUni)[1]\n",
        "  Apad = Padding(padd)\n",
        "  princ = PalHash(letra,coUni,palabra)\n",
        "  segund = Intercalar2(princ[0:int(len(princ)/2)],princ[int(len(princ)/2):len(princ)])\n",
        "  mpad = segund + Apad\n",
        "  #tercer = Intercalar2(mpad[0:int(len(mpad)/2)],mpad[int(len(mpad)/2):len(mpad)])\n",
        "\n",
        "  return PadDef(mpad)"
      ],
      "metadata": {
        "id": "qT1zvzIic73M"
      },
      "execution_count": 14,
      "outputs": []
    },
    {
      "cell_type": "markdown",
      "source": [
        "Aquí se puede encontrar un ejemplo del uso de hash"
      ],
      "metadata": {
        "id": "wAi8zgewdg38"
      }
    },
    {
      "cell_type": "code",
      "source": [
        "print(Aplicar(\"hola\"))\n",
        "print(Aplicar(\"Hola\"))"
      ],
      "metadata": {
        "colab": {
          "base_uri": "https://localhost:8080/"
        },
        "id": "C0K1h1il54Ur",
        "outputId": "c53540ad-d554-4e39-f550-565f90102284"
      },
      "execution_count": 64,
      "outputs": [
        {
          "output_type": "stream",
          "name": "stdout",
          "text": [
            "v1f0c8v9f71f0c4v1f1c13533143118802401297636324342511559\n",
            "1v0f8c9v77f2c1v1f1c353112281649214126853306398247325540\n"
          ]
        }
      ]
    },
    {
      "cell_type": "markdown",
      "source": [
        "Esta funcion permite subir archivos y que se logre cifrar un archivo."
      ],
      "metadata": {
        "id": "ISs_ennNdkgg"
      }
    },
    {
      "cell_type": "code",
      "source": [
        "def SubirArchivo():\n",
        "  uploaded = files.upload()\n",
        "  filename = next(iter(uploaded))\n",
        "  print(\"Nombre del Archivo: \",filename)\n",
        "  filePath = \"./\"+filename\n",
        "  file1 = open(filePath, 'r')\n",
        "  count = 0\n",
        "    \n",
        "  filePath = \"./\"+filename\n",
        "\n",
        "  with open(filePath, 'rb') as file:\n",
        "    fi  = io.FileIO(file.fileno())\n",
        "    fb = io.BufferedReader(fi)\n",
        "    result = codecs.encode(fb.read(),'hex_codec')\n",
        "    result = result.decode('ascii')\n",
        "  print(\"El hash del archivo es: \",Aplicar(result))"
      ],
      "metadata": {
        "id": "VCHDA-MIaRam"
      },
      "execution_count": 65,
      "outputs": []
    },
    {
      "cell_type": "markdown",
      "source": [
        "Esta funcion calcula el tiempo de hash"
      ],
      "metadata": {
        "id": "Z5B1LHJQd5Mk"
      }
    },
    {
      "cell_type": "code",
      "source": [
        "def Tiempo(palabra):\n",
        "  inicio=time.time()\n",
        "  hash = Aplicar(palabra)\n",
        "  fin=time.time()\n",
        "  tiempoHash=fin-inicio\n",
        "  return [hash,tiempoHash]"
      ],
      "metadata": {
        "id": "L5VZpKlD6sI1"
      },
      "execution_count": 50,
      "outputs": []
    },
    {
      "cell_type": "markdown",
      "source": [
        "Esta funcion permite subir un archivo y que lea todas las entradas de texto de cada linea y las hashea, imprime el hash y el tiempo que se tardo."
      ],
      "metadata": {
        "id": "ZhDWBANkeBDy"
      }
    },
    {
      "cell_type": "code",
      "source": [
        "def Subir():\n",
        "    up = files.upload()\n",
        "    filename = next(iter(up))\n",
        "    print(\"Nombre: \", filename)\n",
        "    with open('Pass50.txt', newline='') as File:  \n",
        "      reader = File.readlines()\n",
        "      for row in reader:\n",
        "        row = row.split('\\r')[0]\n",
        "        valor = Tiempo(row)\n",
        "        print(str(row),\" -> \",valor[0],' -> ',valor[1])"
      ],
      "metadata": {
        "id": "gQsYz14Lf9-J"
      },
      "execution_count": 32,
      "outputs": []
    },
    {
      "cell_type": "markdown",
      "source": [
        "Seleccion multiple para saber que se quiere aplicar"
      ],
      "metadata": {
        "id": "kkeqOlCdeOre"
      }
    },
    {
      "cell_type": "code",
      "source": [
        "from google.colab import files\n",
        "\n",
        "n = 0\n",
        "while(n is not 4):\n",
        "  print(\"\\nSeleccione un de las siguientes Opciones: \\n\")\n",
        "  print(\"1.- Realizar Hash a un String\")\n",
        "  print(\"2.- Realizar Hash a varios String dentro de un Archivo de Texto\")\n",
        "  print(\"3.- Realizar Hash a un Archivo\")\n",
        "  print(\"4.- Salir\")\n",
        "\n",
        "  n = int(input(\"\\nIngrese el numero: \"))\n",
        "  while(n<1 or n >4):\n",
        "    print(\"\\nPor favor seleccione una de las opciones dadas anteriormente \\n\")\n",
        "    n = int(input(\"\\nIngrese el numero: \"))\n",
        "  if(n == 1):\n",
        "    text = input(\"Ingrese el String: \")\n",
        "    print(\"Texto ingresado: \",text)\n",
        "    h = Aplicar(text)\n",
        "    print('\\nHash: ',h)\n",
        "    print(\"Entropia del Hash: \",Entropia(len(h),0))\n",
        "  elif(n == 2):\n",
        "    print(\"\\nSuba el archivo de Texto: \")\n",
        "    Subir()\n",
        "  elif(n == 3):\n",
        "    print(\"\\nSuba el archivo: \")\n",
        "    SubirArchivo()"
      ],
      "metadata": {
        "colab": {
          "resources": {
            "http://localhost:8080/nbextensions/google.colab/files.js": {
              "data": "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",
              "ok": true,
              "headers": [
                [
                  "content-type",
                  "application/javascript"
                ]
              ],
              "status": 200,
              "status_text": ""
            }
          },
          "base_uri": "https://localhost:8080/",
          "height": 1000
        },
        "id": "IVl-oP-pYy-i",
        "outputId": "1c69ec8d-de4d-4082-9e87-1de0e2c917af"
      },
      "execution_count": 66,
      "outputs": [
        {
          "output_type": "stream",
          "name": "stdout",
          "text": [
            "\n",
            "Seleccione un de las siguientes Opciones: \n",
            "\n",
            "1.- Realizar Hash a un String\n",
            "2.- Realizar Hash a varios String dentro de un Archivo de Texto\n",
            "3.- Realizar Hash a un Archivo\n",
            "4.- Salir\n",
            "\n",
            "Ingrese el numero: 1\n",
            "Ingrese el String: hola\n",
            "Texto ingresado:  hola\n",
            "\n",
            "Hash:  v1f0c8v9f71f0c4v1f1c13533143118802401297636324342511559\n",
            "Entropia del Hash:  360.502\n",
            "\n",
            "Seleccione un de las siguientes Opciones: \n",
            "\n",
            "1.- Realizar Hash a un String\n",
            "2.- Realizar Hash a varios String dentro de un Archivo de Texto\n",
            "3.- Realizar Hash a un Archivo\n",
            "4.- Salir\n",
            "\n",
            "Ingrese el numero: 2\n",
            "\n",
            "Suba el archivo de Texto: \n"
          ]
        },
        {
          "output_type": "display_data",
          "data": {
            "text/plain": [
              "<IPython.core.display.HTML object>"
            ],
            "text/html": [
              "\n",
              "     <input type=\"file\" id=\"files-20de14ed-b473-43cc-8ee3-cbe23b92c294\" name=\"files[]\" multiple disabled\n",
              "        style=\"border:none\" />\n",
              "     <output id=\"result-20de14ed-b473-43cc-8ee3-cbe23b92c294\">\n",
              "      Upload widget is only available when the cell has been executed in the\n",
              "      current browser session. Please rerun this cell to enable.\n",
              "      </output>\n",
              "      <script src=\"/nbextensions/google.colab/files.js\"></script> "
            ]
          },
          "metadata": {}
        },
        {
          "output_type": "stream",
          "name": "stdout",
          "text": [
            "Saving Pass50.txt to Pass50 (12).txt\n",
            "Nombre:  Pass50.txt\n",
            "123456  ->  5v2e5#3v5e44v9e5#0v5e1#31303518812403298036314340511159  ->  0.0011255741119384766\n",
            "12345  ->  1#5v2e5#34v9e5#0v5e373512211635212226653284396547165526  ->  0.0012311935424804688\n",
            "123456789  ->  3v5e4#5v5e5#6v5e74v9e5#0v5e1#5v2e5#32323536614373515059  ->  0.0005645751953125\n",
            "password  ->  e1f9v1e1f1v1e1f4v1e0f01f1v2e9f7v1e1f5v1e1f5v13138325577  ->  0.0003211498260498047\n",
            "iloveyou  ->  1c0f1f1c2f1f1c1f1f1c1f71c0f5f1c0f8f1c1f1f1c1f8f31383459  ->  0.0001804828643798828\n",
            "princess  ->  e9e9v1e0e1v1e1e5v1e1e51e1v2e1e1v4e1e0v5e1e1v03139305565  ->  0.0003294944763183594\n",
            "1234567  ->  2e5#3v5e4#5v54v9e5#0v5e1#5v3134302406298636434355513259  ->  0.0005838871002197266\n",
            "rockyou  ->  7b1f2f1b1f1f1b1f1f71f1b4f1f1b1f9f9b1f0f3133344355513259  ->  0.00036263465881347656\n",
            "12345678  ->  5#3v5e4#5v5e5#64v9e5#0v5e1#5v2e313830299936604371514659  ->  0.0005176067352294922\n",
            "abc123  ->  4a9b5c0a5b19a7b9c8a9b9c31303518842409299236464361513559  ->  0.0006759166717529297\n",
            "nicole  ->  c1e1f1c0e8f1c0e11e1f0c1e0f5c9e9f13130323295397847335542  ->  0.0005593299865722656\n",
            "daniel  ->  v0e5c1v0e1c1v0e81e0c0v9e7c1v1e0c13130353299398647405547  ->  0.0005400180816650391\n",
            "babygirl  ->  v3e1c0v5e1c1v4e1c0v89c8v9e7c9v8e1c2v1e1c031383747765592  ->  0.0003867149353027344\n",
            "monkey  ->  1f0e7b1d0f1e1b2d11d0f9e1b1d1f1e1b0d31303136074319509659  ->  0.00043392181396484375\n",
            "lovely  ->  1c0f1c1c0f8c1c2f11c0f8c1c1f1c1c1f8c31313136134322509359  ->  0.0006036758422851562\n",
            "jessica  ->  a1v5e1a0v5e9a9v9e71a0v6e1a0v1e1a1v5e1313538400247365548  ->  0.0004813671112060547\n",
            "654321  ->  5v1e5#0v4e95v4e5#3v5e2#31303518812403298036314340511159  ->  0.0007112026214599609\n",
            "michael  ->  d4c9v7d1c0v1d1c0v81d0c9v1d0c5v9d9c1v0313435400747465559  ->  0.00047516822814941406\n",
            "ashley  ->  e0c8v1e0c1v1e2c19c7v1e1c5v1e0c4v13132333304397847335542  ->  0.0006754398345947266\n",
            "qwerty  ->  1r1t4y1q1w6e1r2t11q1w3e1r1t9y1q0w1e31333536384354513059  ->  0.0005347728729248047\n",
            "111111  ->  4v9e4#9v4e94v9e4#9v4e9#39301683217327223335401347495565  ->  0.0007441043853759766\n",
            "iloveu  ->  1c1f8v1c0f1v1c1f71c0f5v1c0f8v1c1f1v31323136364350512259  ->  0.0004487037658691406\n",
            "000000  ->  4v8e4#8v4e84v8e4#8v4e8#38341680216727193338401947615571  ->  0.0009305477142333984\n",
            "michelle  ->  c0d1c1c0d8c1c0d8c1c0d11d0c9c1d0c5c9d9c1c0d4c13137335525  ->  0.00031447410583496094\n",
            "tigger  ->  1g0e3r1t0i1g1g1e41t1i6g1g0e5r1t0i3g31333836514362513759  ->  0.0004718303680419922\n",
            "sunshine  ->  1e0e4v1e0e5v1e1e0v1e0e11e1e5v1e1e7v1e1e0v1e1e5v31383659  ->  0.0001862049102783203\n",
            "chocolate  ->  1f1f0c8f9f7c1f1f6c1f0f19f9f1c0f4f1c1f1f9c9f1f1c32303760  ->  0.00018548965454101562\n",
            "password1  ->  f9v1e1f1v1e1f4v1e0f0v4e91f1v2e9f7v1e1f5v1e1f5v1e1323139  ->  0.00022292137145996094\n",
            "soccer  ->  9e9f1v0e1f1v1e41f1v5e1f1v1e9f9v313137301936644379516260  ->  0.0005357265472412109\n",
            "anthony  ->  4f1e1e1f1e1e0f1e2e19e7f1e1e0f1e1e6f1e0e3133344355513259  ->  0.0003726482391357422\n",
            "friends  ->  v1e1e1v0e1e0v0e1e1v51e0v2e1e1v4e1e0v5e1e031353547335542  ->  0.0003829002380371094\n",
            "butterfly  ->  1v1e1c4v1e0c2v1e0c8v1e2c19c8v1e1c7v1e1c6v1e1c6v1e0c3233  ->  9.250640869140625e-05\n",
            "purple  ->  1c1v2e1c0v8e1c0v11c1v2e1c1v7e1c1v4e31303936334344511959  ->  0.00044274330139160156\n",
            "angel  ->  3c1v0e1c1v0e89e7c1v1e0c1v0e3736214026833302397447255535  ->  0.0006494522094726562\n",
            "jordan  ->  e1a0f0e9a7f1e1a01a0f6e1a1f1e1a1f43935297636324342511559  ->  0.0005130767822265625\n",
            "liverpool  ->  f4f1c1c2f1f1c1c1f1f1c1c0f81c0f8f1c0c5f1f1c8c1f0f1c1c131  ->  0.00011014938354492188\n",
            "justin  ->  1a1e6v1a0e5v1a1e01a0e6v1a1e7v1a1e5v31313436204327510359  ->  0.00047087669372558594\n",
            "loveme  ->  1c0f1d1c0f9d1c0f11c0f8d1c1f1d1c1f8d31303636214329510759  ->  0.0004711151123046875\n",
            "fuckyou  ->  7f1v2b1f1v1b1f1v1b71b0f2v1b1f7v9b9f1v0b3134364363513959  ->  0.0003960132598876953\n",
            "123123  ->  4v9e5#0v5e14v9e5#0v5e1#39361659215226983323399847555568  ->  0.00070953369140625\n",
            "football  ->  6c9f8f9c7c1f0f8c1c0f81f0f2c1c1f1f1c1c1f1f1c313436514759  ->  0.0003349781036376953\n",
            "secret  ->  c1r4e1t0s1e1c1r61s1e5c1r0e1t9s9e13132373295397847335542  ->  0.0005400180816650391\n",
            "andrea  ->  1e1e4v1e0e1v9e79e7v1e1e0v1e0e0v313133299936604371514659  ->  0.0005078315734863281\n",
            "carlos  ->  0v8c1f1v1c1f1v59c9f9v7c1f1v4c1f393727263343402047545566  ->  0.0006871223449707031\n",
            "jennifer  ->  1a0e5e1a0e2e1a0e1e1a1e41a0e6e1a0e1e1a1e0e1a1e0e31383359  ->  0.0002079010009765625\n",
            "joshua  ->  v1a0f4v1a1f7v9a71a0f6v1a1f1v1a1f53131373304397847335542  ->  0.0005588531494140625\n",
            "bubbles  ->  1c0v8e1c0v1e1c1v59c8v1e1c7v9e8c9v8e31343536774396517860  ->  0.0004673004150390625\n",
            "1234567890  ->  5e4#5v5e5#6v5e7#4v84v9e5#0v5e1#5v2e5#3v3236354385516560  ->  0.00038504600524902344\n",
            "superman  ->  v1d1e4v1d0e9v9d7e1v1d01d1e5v1d1e7v1d1e2v1d0e13136325560  ->  0.0002968311309814453\n",
            "hannah  ->  1v1e0e9v7e1e0v41e0e4v9e7e1v1e0e313038300636474363513959  ->  0.0005240440368652344\n",
            "\n",
            "Seleccione un de las siguientes Opciones: \n",
            "\n",
            "1.- Realizar Hash a un String\n",
            "2.- Realizar Hash a varios String dentro de un Archivo de Texto\n",
            "3.- Realizar Hash a un Archivo\n",
            "4.- Salir\n",
            "\n",
            "Ingrese el numero: 3\n",
            "\n",
            "Suba el archivo: \n"
          ]
        },
        {
          "output_type": "display_data",
          "data": {
            "text/plain": [
              "<IPython.core.display.HTML object>"
            ],
            "text/html": [
              "\n",
              "     <input type=\"file\" id=\"files-62f76807-e62e-40fe-84f1-d825a942d597\" name=\"files[]\" multiple disabled\n",
              "        style=\"border:none\" />\n",
              "     <output id=\"result-62f76807-e62e-40fe-84f1-d825a942d597\">\n",
              "      Upload widget is only available when the cell has been executed in the\n",
              "      current browser session. Please rerun this cell to enable.\n",
              "      </output>\n",
              "      <script src=\"/nbextensions/google.colab/files.js\"></script> "
            ]
          },
          "metadata": {}
        },
        {
          "name": "stdout",
          "output_type": "stream",
          "text": [
            "Saving Pass50.txt to Pass50 (13).txt\n",
            "Nombre del Archivo:  Pass50.txt\n",
            "El hash del archivo es:  d5a4d5a7c5f4d1a0d1a5d4c5c3d4a8d1a0e0e4d8a9f7f5c4d5a1f5d\n",
            "\n",
            "Seleccione un de las siguientes Opciones: \n",
            "\n",
            "1.- Realizar Hash a un String\n",
            "2.- Realizar Hash a varios String dentro de un Archivo de Texto\n",
            "3.- Realizar Hash a un Archivo\n",
            "4.- Salir\n",
            "\n",
            "Ingrese el numero: 7\n",
            "\n",
            "Por favor seleccione una de las opciones dadas anteriormente \n",
            "\n",
            "\n",
            "Ingrese el numero: 0\n",
            "\n",
            "Por favor seleccione una de las opciones dadas anteriormente \n",
            "\n",
            "\n",
            "Ingrese el numero: 4\n"
          ]
        }
      ]
    },
    {
      "cell_type": "markdown",
      "source": [
        "Comparación hash"
      ],
      "metadata": {
        "id": "oTqNH-sYRc-C"
      }
    },
    {
      "cell_type": "markdown",
      "source": [
        "Funciones que definene otros algoritmos de hash y que calculan sus tiempos para despues aplicar un print comparativo con la entropia."
      ],
      "metadata": {
        "id": "Tnqw8GRYeTL0"
      }
    },
    {
      "cell_type": "code",
      "source": [
        "def Md5(palabra):\n",
        "  sb=palabra.encode(\"utf-8\")\n",
        "  inicio=time.time()\n",
        "  md5=hashlib.md5(sb).hexdigest()\n",
        "  fin=time.time()\n",
        "  return fin-inicio\n",
        "\n",
        "def Sha1(palabra):\n",
        "  sb=palabra.encode(\"utf-8\")\n",
        "  inicio=time.time()\n",
        "  sha1=hashlib.sha1(sb).hexdigest()\n",
        "  fin=time.time()\n",
        "  return fin-inicio\n",
        "\n",
        "def Sha256(palabra):\n",
        "  sb=palabra.encode(\"utf-8\")\n",
        "  inicio=time.time()\n",
        "  sha256=hashlib.sha256(sb).hexdigest()\n",
        "  fin=time.time()\n",
        "  return fin-inicio\n",
        "\n",
        "def RealCompa(palabra):\n",
        "  print(palabra,\" \",Entropia(len(palabra),0),\" \",Tiempo(palabra)[1],\" \",Md5(palabra),\" \",Sha1(palabra),\" \",Sha256(palabra))\n",
        "\n",
        "\n",
        "up = files.upload()\n",
        "filename = next(iter(up))\n",
        "print(\"Nombre: \", filename)\n",
        "with open(filename, newline='') as File:  \n",
        "  reader = File.readlines()\n",
        "  for row in reader:\n",
        "    RealCompa(row)\n",
        "\n"
      ],
      "metadata": {
        "colab": {
          "resources": {
            "http://localhost:8080/nbextensions/google.colab/files.js": {
              "data": "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",
              "ok": true,
              "headers": [
                [
                  "content-type",
                  "application/javascript"
                ]
              ],
              "status": 200,
              "status_text": ""
            }
          },
          "base_uri": "https://localhost:8080/",
          "height": 1000
        },
        "id": "QUiEfipaRgFx",
        "outputId": "5573680e-e6e2-46b4-f641-9f9f4ad876ad"
      },
      "execution_count": 67,
      "outputs": [
        {
          "output_type": "display_data",
          "data": {
            "text/plain": [
              "<IPython.core.display.HTML object>"
            ],
            "text/html": [
              "\n",
              "     <input type=\"file\" id=\"files-47161741-56ea-47e5-99cc-03c5ca4d9f84\" name=\"files[]\" multiple disabled\n",
              "        style=\"border:none\" />\n",
              "     <output id=\"result-47161741-56ea-47e5-99cc-03c5ca4d9f84\">\n",
              "      Upload widget is only available when the cell has been executed in the\n",
              "      current browser session. Please rerun this cell to enable.\n",
              "      </output>\n",
              "      <script src=\"/nbextensions/google.colab/files.js\"></script> "
            ]
          },
          "metadata": {}
        },
        {
          "output_type": "stream",
          "name": "stdout",
          "text": [
            "Saving Pass50.txt to Pass50 (14).txt\n",
            "Nombre:  Pass50.txt\n",
            "123456\r\n",
            "   52.437   0.000553131103515625   1.1205673217773438e-05   3.0994415283203125e-06   3.361701965332031e-05\n",
            "12345\r\n",
            "   45.882   0.0007066726684570312   1.0728836059570312e-05   3.5762786865234375e-06   3.5762786865234375e-06\n",
            "123456789\r\n",
            "   72.1   0.00030422210693359375   9.059906005859375e-06   3.0994415283203125e-06   2.86102294921875e-06\n",
            "password\r\n",
            "   65.546   0.00010919570922851562   2.6226043701171875e-06   1.6689300537109375e-06   1.1920928955078125e-06\n",
            "iloveyou\r\n",
            "   65.546   7.62939453125e-05   1.430511474609375e-06   1.430511474609375e-06   1.430511474609375e-06\n",
            "princess\r\n",
            "   65.546   6.842613220214844e-05   1.1920928955078125e-06   1.1920928955078125e-06   1.1920928955078125e-06\n",
            "1234567\r\n",
            "   58.991   0.0006096363067626953   4.0531158447265625e-06   1.6689300537109375e-06   1.9073486328125e-06\n",
            "rockyou\r\n",
            "   58.991   0.00020432472229003906   1.2159347534179688e-05   3.814697265625e-06   3.337860107421875e-06\n",
            "12345678\r\n",
            "   65.546   0.00035834312438964844   1.6689300537109375e-06   1.430511474609375e-06   1.430511474609375e-06\n",
            "abc123\r\n",
            "   52.437   0.0004930496215820312   2.1457672119140625e-06   1.1920928955078125e-06   1.430511474609375e-06\n",
            "nicole\r\n",
            "   52.437   0.0004711151123046875   1.0013580322265625e-05   2.86102294921875e-06   2.6226043701171875e-06\n",
            "daniel\r\n",
            "   52.437   0.00039958953857421875   2.6226043701171875e-06   1.6689300537109375e-06   1.9073486328125e-06\n",
            "babygirl\r\n",
            "   65.546   0.0002067089080810547   5.245208740234375e-06   1.6689300537109375e-06   2.1457672119140625e-06\n",
            "monkey\r\n",
            "   52.437   0.0002963542938232422   2.86102294921875e-06   1.430511474609375e-06   1.6689300537109375e-06\n",
            "lovely\r\n",
            "   52.437   0.00045680999755859375   7.3909759521484375e-06   1.9073486328125e-06   1.9073486328125e-06\n",
            "jessica\r\n",
            "   58.991   0.00028777122497558594   1.6689300537109375e-06   1.6689300537109375e-06   1.430511474609375e-06\n",
            "654321\r\n",
            "   52.437   0.0005338191986083984   2.6226043701171875e-06   1.9073486328125e-06   1.9073486328125e-06\n",
            "michael\r\n",
            "   58.991   0.0003139972686767578   5.245208740234375e-06   1.9073486328125e-06   2.1457672119140625e-06\n",
            "ashley\r\n",
            "   52.437   0.00041794776916503906   2.384185791015625e-06   1.1920928955078125e-06   1.6689300537109375e-06\n",
            "qwerty\r\n",
            "   52.437   0.00029659271240234375   1.0251998901367188e-05   3.0994415283203125e-06   3.814697265625e-06\n",
            "111111\r\n",
            "   52.437   0.0005431175231933594   3.0994415283203125e-06   1.430511474609375e-06   1.6689300537109375e-06\n",
            "iloveu\r\n",
            "   52.437   0.0002753734588623047   1.430511474609375e-06   1.430511474609375e-06   1.1920928955078125e-06\n",
            "000000\r\n",
            "   52.437   0.0005309581756591797   2.1457672119140625e-06   1.430511474609375e-06   1.6689300537109375e-06\n",
            "michelle\r\n",
            "   65.546   7.176399230957031e-05   1.1920928955078125e-06   1.1920928955078125e-06   1.1920928955078125e-06\n",
            "tigger\r\n",
            "   52.437   0.0007581710815429688   7.62939453125e-06   2.1457672119140625e-06   2.86102294921875e-06\n",
            "sunshine\r\n",
            "   65.546   0.00010418891906738281   3.337860107421875e-06   1.6689300537109375e-06   2.86102294921875e-06\n",
            "chocolate\r\n",
            "   72.1   0.00010585784912109375   2.86102294921875e-06   1.6689300537109375e-06   1.6689300537109375e-06\n",
            "password1\r\n",
            "   72.1   0.00011038780212402344   7.3909759521484375e-06   2.1457672119140625e-06   2.384185791015625e-06\n",
            "soccer\r\n",
            "   52.437   0.00039076805114746094   2.6226043701171875e-06   1.430511474609375e-06   1.9073486328125e-06\n",
            "anthony\r\n",
            "   58.991   0.0002155303955078125   8.344650268554688e-06   1.9073486328125e-06   2.1457672119140625e-06\n",
            "friends\r\n",
            "   58.991   0.00019693374633789062   2.384185791015625e-06   1.6689300537109375e-06   1.9073486328125e-06\n",
            "butterfly\r\n",
            "   72.1   9.1552734375e-05   2.6226043701171875e-06   1.430511474609375e-06   1.430511474609375e-06\n",
            "purple\r\n",
            "   52.437   0.00031566619873046875   9.775161743164062e-06   2.6226043701171875e-06   2.86102294921875e-06\n",
            "angel\r\n",
            "   45.882   0.0005757808685302734   1.0251998901367188e-05   4.0531158447265625e-06   3.337860107421875e-06\n",
            "jordan\r\n",
            "   52.437   0.00042939186096191406   1.1920928955078125e-05   3.337860107421875e-06   3.814697265625e-06\n",
            "liverpool\r\n",
            "   72.1   0.00017762184143066406   1.3828277587890625e-05   4.76837158203125e-06   5.245208740234375e-06\n",
            "justin\r\n",
            "   52.437   0.00051116943359375   5.9604644775390625e-06   2.6226043701171875e-06   4.291534423828125e-06\n",
            "loveme\r\n",
            "   52.437   0.0005033016204833984   4.5299530029296875e-06   2.384185791015625e-06   3.0994415283203125e-06\n",
            "fuckyou\r\n",
            "   58.991   0.00032806396484375   4.5299530029296875e-06   2.384185791015625e-06   3.337860107421875e-06\n",
            "123123\r\n",
            "   52.437   0.0009329319000244141   5.7220458984375e-06   3.0994415283203125e-06   3.337860107421875e-06\n",
            "football\r\n",
            "   65.546   0.00013566017150878906   5.7220458984375e-06   2.1457672119140625e-06   2.86102294921875e-06\n",
            "secret\r\n",
            "   52.437   0.000614166259765625   7.152557373046875e-06   3.0994415283203125e-06   2.384185791015625e-06\n",
            "andrea\r\n",
            "   52.437   0.0006272792816162109   5.245208740234375e-06   3.0994415283203125e-06   2.86102294921875e-06\n",
            "carlos\r\n",
            "   52.437   0.0006160736083984375   5.7220458984375e-06   2.384185791015625e-06   2.86102294921875e-06\n",
            "jennifer\r\n",
            "   65.546   0.00017213821411132812   3.814697265625e-06   2.384185791015625e-06   2.86102294921875e-06\n",
            "joshua\r\n",
            "   52.437   0.0006780624389648438   4.5299530029296875e-06   1.9073486328125e-06   2.6226043701171875e-06\n",
            "bubbles\r\n",
            "   58.991   0.00048351287841796875   5.245208740234375e-06   2.1457672119140625e-06   2.6226043701171875e-06\n",
            "1234567890\r\n",
            "   78.655   0.0003008842468261719   5.0067901611328125e-06   2.1457672119140625e-06   2.1457672119140625e-06\n",
            "superman\r\n",
            "   65.546   0.00012755393981933594   5.245208740234375e-06   2.384185791015625e-06   2.86102294921875e-06\n",
            "hannah   39.328   0.0008757114410400391   6.67572021484375e-06   2.86102294921875e-06   3.0994415283203125e-06\n"
          ]
        }
      ]
    }
  ]
}